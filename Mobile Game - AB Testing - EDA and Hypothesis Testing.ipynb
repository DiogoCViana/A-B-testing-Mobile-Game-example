{
 "cells": [
  {
   "cell_type": "markdown",
   "id": "01df2ce4",
   "metadata": {},
   "source": [
    "#### Author: Diogo Viana\n",
    "\n",
    "#### February 2023\n",
    "#### Last Update February 2024\n",
    "\n",
    "##### Contact information:\n",
    "- https://github.com/DiogocViana\n",
    "- https://www.linkedin.com/in/diogo-viana/\n",
    "\n",
    "\n",
    "\n",
    "### A/B testing: Mobile Game\n",
    "### EDA and Hypothesis Testing"
   ]
  },
  {
   "cell_type": "markdown",
   "id": "f63c0978",
   "metadata": {},
   "source": [
    "# Table of Contents\n",
    "1. [Introduction](#Introduction)\n",
    "2. [Data Dictionary](#Data-Dictionary)\n",
    "3. [Profiling](#Profiling)\n",
    "4. [Exploratory Data Analysis](#Exploratory-Data-Analysis)\n",
    "5. [A/B testing](#A/B-testing)\n",
    "    | 5.1[Part I](#Part-I)\n",
    "    | 5.2[Part II](#Part-II)\n",
    "6. [Conclusion](#Conclusion)\n",
    "7. [Reference](#Reference)"
   ]
  },
  {
   "cell_type": "markdown",
   "id": "4b785865",
   "metadata": {},
   "source": [
    "## Introduction"
   ]
  },
  {
   "cell_type": "markdown",
   "id": "7150721b",
   "metadata": {},
   "source": [
    "Introduction:\n",
    "\n",
    "Welcome to the GitHub repository for our project analyzing player retention in the mobile puzzle game \"Cookie Cats\" developed by Tactile Entertainment. In this project, we aim to determine the optimal level at which to place a gate within the game to minimize the impact on player retention. This analysis is crucial for ensuring a smooth player experience and maximizing engagement.\n",
    "\n",
    "Dataset Source:\n",
    "The dataset used for this analysis was obtained from Kaggle, where a user made it available after completing a project from Datacamp. It contains information on player behavior within the game, including progression levels, retention rates, and other relevant metrics.\n",
    "\n",
    "About Cookie Cats:\n",
    "\"Cookie Cats\" is a popular mobile puzzle game characterized by its \"connect three\" style gameplay. Players are tasked with matching tiles of the same color to clear the board and advance to the next level. Throughout the game, players encounter gates designed to either require them to wait a specific amount of time or make an in-app purchase before progressing further. Notably, the first gate in the game is initially set at level 30.\n",
    "\n",
    "Objective:\n",
    "The primary objective of this project is to determine the most suitable level at which to place the gate within \"Cookie Cats\" to minimize its impact on player retention. To achieve this, we will conduct an analysis of the results from an A/B test, wherein the location of the first gate in the game was moved from level 30 to level 40.\n",
    "\n",
    "Libraries Used:\n",
    "For conducting the analysis and generating insights, we will utilize the following libraries:\n",
    "\n",
    "- Pandas: For data manipulation and analysis.\n",
    "- NumPy: For numerical computing and array operations.\n",
    "- Matplotlib and Seaborn: For data visualization and plotting.\n",
    "- SciPy: For statistical analysis and hypothesis testing.\n",
    "\n",
    "By leveraging these libraries and methodologies, we aim to provide actionable insights to enhance the player experience and retention rates within \"Cookie Cats\". Stay tuned for updates and insights from our analysis in this GitHub repository!"
   ]
  },
  {
   "cell_type": "markdown",
   "id": "85d74023",
   "metadata": {},
   "source": [
    "## Data Dictionary\n",
    "\n",
    "Please take a moment to review and understand the data dictionary provided below. It serves as a valuable reference in case we encounter any confusion regarding the meaning of specific data columns."
   ]
  },
  {
   "attachments": {
    "image-2.png": {
     "image/png": "[encoded data removed]"
    }
   },
   "cell_type": "markdown",
   "id": "05834f36",
   "metadata": {},
   "source": [
    "![image-2.png](attachment:image-2.png)"
   ]
  },
  {
   "cell_type": "markdown",
   "id": "4fea6eec",
   "metadata": {},
   "source": [
    "In the next part I will run these codes to be able to use them during my analysis."
   ]
  },
  {
   "cell_type": "code",
   "execution_count": 1,
   "id": "c97becde",
   "metadata": {},
   "outputs": [],
   "source": [
    "import numpy as np\n",
    "import pandas as pd\n",
    "import matplotlib.pyplot as plt\n",
    "import seaborn as sns\n",
    "\n",
    "import statsmodels.api as sm\n",
    "from statsmodels.regression import linear_model\n",
    "from scipy import stats\n",
    "from scipy.stats import norm\n",
    "%matplotlib inline\n",
    "\n",
    "from scipy import stats\n",
    "from scipy.stats import norm\n",
    "import statsmodels.api as sm\n",
    "from statsmodels.stats.proportion import proportions_ztest"
   ]
  },
  {
   "cell_type": "markdown",
   "id": "9f48e4a5",
   "metadata": {},
   "source": [
    "After importing the necessary functions, the next step involves reading the CSV file containing the dataset."
   ]
  },
  {
   "cell_type": "code",
   "execution_count": 2,
   "id": "595cbf5e",
   "metadata": {},
   "outputs": [],
   "source": [
    "# I am calling the csv as df  \n",
    "df = pd.read_csv(\"cookie_cats.csv\")"
   ]
  },
  {
   "cell_type": "markdown",
   "id": "ba97d5be",
   "metadata": {},
   "source": [
    "Now that the file has been successfully read, the next steps involve profiling the data followed by performing an exploratory data analysis (EDA)."
   ]
  },
  {
   "cell_type": "markdown",
   "id": "d62ce374",
   "metadata": {},
   "source": [
    "## Profiling"
   ]
  },
  {
   "cell_type": "code",
   "execution_count": 3,
   "id": "a83aa1ad",
   "metadata": {},
   "outputs": [
    {
     "data": {
      "text/html": [
       "<div>\n",
       "<style scoped>\n",
       "    .dataframe tbody tr th:only-of-type {\n",
       "        vertical-align: middle;\n",
       "    }\n",
       "\n",
       "    .dataframe tbody tr th {\n",
       "        vertical-align: top;\n",
       "    }\n",
       "\n",
       "    .dataframe thead th {\n",
       "        text-align: right;\n",
       "    }\n",
       "</style>\n",
       "<table border=\"1\" class=\"dataframe\">\n",
       "  <thead>\n",
       "    <tr style=\"text-align: right;\">\n",
       "      <th></th>\n",
       "      <th>userid</th>\n",
       "      <th>version</th>\n",
       "      <th>sum_gamerounds</th>\n",
       "      <th>retention_1</th>\n",
       "      <th>retention_7</th>\n",
       "    </tr>\n",
       "  </thead>\n",
       "  <tbody>\n",
       "    <tr>\n",
       "      <th>0</th>\n",
       "      <td>116</td>\n",
       "      <td>gate_30</td>\n",
       "      <td>3</td>\n",
       "      <td>False</td>\n",
       "      <td>False</td>\n",
       "    </tr>\n",
       "    <tr>\n",
       "      <th>1</th>\n",
       "      <td>337</td>\n",
       "      <td>gate_30</td>\n",
       "      <td>38</td>\n",
       "      <td>True</td>\n",
       "      <td>False</td>\n",
       "    </tr>\n",
       "    <tr>\n",
       "      <th>2</th>\n",
       "      <td>377</td>\n",
       "      <td>gate_40</td>\n",
       "      <td>165</td>\n",
       "      <td>True</td>\n",
       "      <td>False</td>\n",
       "    </tr>\n",
       "    <tr>\n",
       "      <th>3</th>\n",
       "      <td>483</td>\n",
       "      <td>gate_40</td>\n",
       "      <td>1</td>\n",
       "      <td>False</td>\n",
       "      <td>False</td>\n",
       "    </tr>\n",
       "    <tr>\n",
       "      <th>4</th>\n",
       "      <td>488</td>\n",
       "      <td>gate_40</td>\n",
       "      <td>179</td>\n",
       "      <td>True</td>\n",
       "      <td>True</td>\n",
       "    </tr>\n",
       "  </tbody>\n",
       "</table>\n",
       "</div>"
      ],
      "text/plain": [
       "   userid  version  sum_gamerounds  retention_1  retention_7\n",
       "0     116  gate_30               3        False        False\n",
       "1     337  gate_30              38         True        False\n",
       "2     377  gate_40             165         True        False\n",
       "3     483  gate_40               1        False        False\n",
       "4     488  gate_40             179         True         True"
      ]
     },
     "execution_count": 3,
     "metadata": {},
     "output_type": "execute_result"
    }
   ],
   "source": [
    "# Checking the first rows in order to know what I have for my analysis\n",
    "\n",
    "df.head()"
   ]
  },
  {
   "cell_type": "code",
   "execution_count": 4,
   "id": "a8c24532",
   "metadata": {},
   "outputs": [
    {
     "data": {
      "text/plain": [
       "(90189, 5)"
      ]
     },
     "execution_count": 4,
     "metadata": {},
     "output_type": "execute_result"
    }
   ],
   "source": [
    "# Checking the size\n",
    "df.shape"
   ]
  },
  {
   "cell_type": "markdown",
   "id": "5994e89f",
   "metadata": {},
   "source": [
    "As we can observe from the above code, this dataset has 90,189 rows of data and 5 variables.\n",
    "\n",
    "##### Next steps:\n",
    "- Check data types and formats\n",
    "\n",
    "- Check for duplicated data\n",
    "\n",
    "- Check for missing data"
   ]
  },
  {
   "cell_type": "markdown",
   "id": "b4981f5b",
   "metadata": {},
   "source": [
    "**Step 1**\n",
    "- Data-types and formats"
   ]
  },
  {
   "cell_type": "code",
   "execution_count": 5,
   "id": "8a1dbb3d",
   "metadata": {},
   "outputs": [
    {
     "data": {
      "text/plain": [
       "userid             int64\n",
       "version           object\n",
       "sum_gamerounds     int64\n",
       "retention_1         bool\n",
       "retention_7         bool\n",
       "dtype: object"
      ]
     },
     "execution_count": 5,
     "metadata": {},
     "output_type": "execute_result"
    }
   ],
   "source": [
    "# Check using data types\n",
    "\n",
    "df.dtypes"
   ]
  },
  {
   "cell_type": "markdown",
   "id": "42cb8d6e",
   "metadata": {},
   "source": [
    "As observed, there are two numerical columns, one categorical, and two booleans."
   ]
  },
  {
   "cell_type": "markdown",
   "id": "cd8983d4",
   "metadata": {},
   "source": [
    "**Step 2**\n",
    "- Check for duplicated data"
   ]
  },
  {
   "cell_type": "code",
   "execution_count": 6,
   "id": "5a98347b",
   "metadata": {},
   "outputs": [
    {
     "data": {
      "text/plain": [
       "0"
      ]
     },
     "execution_count": 6,
     "metadata": {},
     "output_type": "execute_result"
    }
   ],
   "source": [
    "# Checking for duplicates.\n",
    "\n",
    "df.duplicated().sum()"
   ]
  },
  {
   "cell_type": "markdown",
   "id": "2e374ef8",
   "metadata": {},
   "source": [
    "There is no duplicates in this dataset"
   ]
  },
  {
   "cell_type": "markdown",
   "id": "cbd8223a",
   "metadata": {},
   "source": [
    "**Step 3**\n",
    "- Check for missing data"
   ]
  },
  {
   "cell_type": "code",
   "execution_count": 7,
   "id": "8529098a",
   "metadata": {},
   "outputs": [
    {
     "name": "stdout",
     "output_type": "stream",
     "text": [
      "<class 'pandas.core.frame.DataFrame'>\n",
      "RangeIndex: 90189 entries, 0 to 90188\n",
      "Data columns (total 5 columns):\n",
      " #   Column          Non-Null Count  Dtype \n",
      "---  ------          --------------  ----- \n",
      " 0   userid          90189 non-null  int64 \n",
      " 1   version         90189 non-null  object\n",
      " 2   sum_gamerounds  90189 non-null  int64 \n",
      " 3   retention_1     90189 non-null  bool  \n",
      " 4   retention_7     90189 non-null  bool  \n",
      "dtypes: bool(2), int64(2), object(1)\n",
      "memory usage: 2.2+ MB\n"
     ]
    }
   ],
   "source": [
    "# Summary\n",
    "\n",
    "df.info()"
   ]
  },
  {
   "cell_type": "code",
   "execution_count": 8,
   "id": "72ef8317",
   "metadata": {},
   "outputs": [
    {
     "data": {
      "text/plain": [
       "userid            0\n",
       "version           0\n",
       "sum_gamerounds    0\n",
       "retention_1       0\n",
       "retention_7       0\n",
       "dtype: int64"
      ]
     },
     "execution_count": 8,
     "metadata": {},
     "output_type": "execute_result"
    }
   ],
   "source": [
    "df.isnull().sum()"
   ]
  },
  {
   "cell_type": "markdown",
   "id": "bece7691",
   "metadata": {},
   "source": [
    "There is no missing data."
   ]
  },
  {
   "cell_type": "markdown",
   "id": "cb33a498",
   "metadata": {},
   "source": [
    "## Exploratory Data Analysis"
   ]
  },
  {
   "cell_type": "markdown",
   "id": "4c1071a6",
   "metadata": {},
   "source": [
    "**Summary of the unique values for each column:**"
   ]
  },
  {
   "cell_type": "code",
   "execution_count": 9,
   "id": "065ec0f4",
   "metadata": {},
   "outputs": [
    {
     "data": {
      "text/plain": [
       "userid            90189\n",
       "version               2\n",
       "sum_gamerounds      942\n",
       "retention_1           2\n",
       "retention_7           2\n",
       "dtype: int64"
      ]
     },
     "execution_count": 9,
     "metadata": {},
     "output_type": "execute_result"
    }
   ],
   "source": [
    "df.nunique()"
   ]
  },
  {
   "cell_type": "markdown",
   "id": "305c9a1c",
   "metadata": {},
   "source": [
    "Now, I will check each column individually:"
   ]
  },
  {
   "cell_type": "code",
   "execution_count": 10,
   "id": "656711aa",
   "metadata": {},
   "outputs": [
    {
     "data": {
      "text/plain": [
       "array([    116,     337,     377, ..., 9999710, 9999768, 9999861],\n",
       "      dtype=int64)"
      ]
     },
     "execution_count": 10,
     "metadata": {},
     "output_type": "execute_result"
    }
   ],
   "source": [
    "df['userid'].unique()"
   ]
  },
  {
   "cell_type": "code",
   "execution_count": 11,
   "id": "2730cb86",
   "metadata": {},
   "outputs": [
    {
     "data": {
      "text/plain": [
       "90189"
      ]
     },
     "execution_count": 11,
     "metadata": {},
     "output_type": "execute_result"
    }
   ],
   "source": [
    "df['userid'].nunique()"
   ]
  },
  {
   "cell_type": "markdown",
   "id": "059d3a49",
   "metadata": {},
   "source": [
    "As expected, for being the unique number that identifies each player, the user_id column is the same size of the dataset."
   ]
  },
  {
   "cell_type": "code",
   "execution_count": 12,
   "id": "9729bcb6",
   "metadata": {},
   "outputs": [
    {
     "data": {
      "text/plain": [
       "array(['gate_30', 'gate_40'], dtype=object)"
      ]
     },
     "execution_count": 12,
     "metadata": {},
     "output_type": "execute_result"
    }
   ],
   "source": [
    "df['version'].unique()"
   ]
  },
  {
   "cell_type": "code",
   "execution_count": 13,
   "id": "9b0e3dc3",
   "metadata": {},
   "outputs": [
    {
     "data": {
      "text/plain": [
       "2"
      ]
     },
     "execution_count": 13,
     "metadata": {},
     "output_type": "execute_result"
    }
   ],
   "source": [
    "df['version'].nunique()"
   ]
  },
  {
   "cell_type": "markdown",
   "id": "6c96bb9e",
   "metadata": {},
   "source": [
    "There are only two unique values for this column, one being the control group and the other test group."
   ]
  },
  {
   "cell_type": "code",
   "execution_count": 14,
   "id": "9927ed8f",
   "metadata": {},
   "outputs": [
    {
     "data": {
      "text/plain": [
       "array([    3,    38,   165,     1,   179,   187,     0,     2,   108,\n",
       "         153,    30,    39,   305,    73,    14,   204,     9,     5,\n",
       "          45,   105,     4,    80,    53,    37,    13,    50,   202,\n",
       "          23,   103,    27,    15,    49,     7,   386,    25,    12,\n",
       "           6,    29,   136,    10,    76,   138,    94,    26,   127,\n",
       "          21,   297,    33,   139,    19,    16,    95,     8,   106,\n",
       "          22,    11,   246,    54,    66,   122,    75,    17,    24,\n",
       "          47,    31,    34,    56,    60,    67,    42,    65,   129,\n",
       "          51,    46,   104,    36,    20,    74,    72,    18,    79,\n",
       "          99,    91,   149,    68,   277,   493,   274,    32,    85,\n",
       "         191,   115,   134,   152,   100,   250,   147,   391,    61,\n",
       "          57,    35,    77,   197,    69,   260,    48,   270,    59,\n",
       "         141,   467,    40,    43,    93,   222,   334,    58,    84,\n",
       "          41,   303,   177,   216,   227,    87,    71,   567,    55,\n",
       "          78,   552,    96,   107,    28,   113,   339,   452,   148,\n",
       "         163,   220,    63,   290,    86,   356,   117,   298,   338,\n",
       "         170,   174,    70,   543,   399,   237,   902,   125,   269,\n",
       "         510,    62,    52,   474,    83,   121,   210,  1906,   199,\n",
       "         118,   259,    98,   128,   215,   231,   160,   110,   275,\n",
       "          44,   133,    88,   282,   132,   183,   112,   332,   798,\n",
       "          81,   142,   143,   114,   186,   164,   249,   345,   546,\n",
       "          82,   394,   258,   375,   109,   158,   519,   553,   175,\n",
       "         123,   281,   240,   317,    90,   190,   192,   343,  1374,\n",
       "         124,   344,   200,    64,   159,   331,   432,   284,   181,\n",
       "         681,   311,   347,   211,   137,   116,   503,   169,   185,\n",
       "         212,   762,   313,   294,   384,   253,   144,   409,   168,\n",
       "         327,   379,   337,   470,   378,   288,   435,   229,   402,\n",
       "         388,   255,   320,   256,   934,   292,   155,   462,    89,\n",
       "         217,   299,   196,   393,   750,   459,   261,   208,   131,\n",
       "         226,   784,   314,   101,   195,   469,   383,   228,   324,\n",
       "         102,   613,   194,   178,   514,   154,   286,   589,   570,\n",
       "         245,   162,   289,   359,   151,   146,   126,   238,  1309,\n",
       "         632,   899,   111,   329,   161,   878,   232,   145,   167,\n",
       "         387,   312,   184,   279,   166,   355,   135,  1252,   278,\n",
       "         385,    97,  1315,   464,   230,   254,   176,   456,   316,\n",
       "          92,   600,   414,   223,   219,   287,   173,   667,   579,\n",
       "         302,   372,   975,   341,   241,   330,   206,   785,   947,\n",
       "         429,   346,   182,   236,   213,   513,   373,   454,   188,\n",
       "         248,   434,   442,   461,   276,   120,   189,   180,   157,\n",
       "         521,   927,   296,   244,   150,   342,   619,   264,   265,\n",
       "         233,   171,   368,   349,   130,   205,   511,   824,   764,\n",
       "         571,   609,   201,   268,   357,   156,   207,   119,  1425,\n",
       "         428,   140,   235,   361,   678,   367,   648,   285,   577,\n",
       "         209,   293,   738,   584,   441,   306,   221,   422,   354,\n",
       "         198,   525,   633,   300,   307,   364,   669,   718,   447,\n",
       "         243,   340,   400,  1446,   382,   262,   193,   263,   395,\n",
       "         315,   308,   266,   348,   599,   376,   438,   425,   203,\n",
       "         242,   463,   301,   291,   560,   218,   239,   381,   433,\n",
       "         439,   548,   833,  2015,   247,   886,   257,   365,   360,\n",
       "         697,   412,   272,   637,   490,   396,   720,   295,   597,\n",
       "         603,   707,   663,   406,   549,   172,   403,   709,   421,\n",
       "         271,   377,   319,   225,   426,  2961,   494,   214,   431,\n",
       "         437,   547,   304,   480,   532,   267,   323,   666,   590,\n",
       "         509,  1366,   702,   500,   380,   608,   251,   371,   610,\n",
       "         791,   664,   472,   366,   499,   353,   585,   536,   566,\n",
       "         390,   389,   430,   419,   351,   309,   350,   423,   620,\n",
       "         473,  1063,   522,   413,   310,   362,   397,   508,   771,\n",
       "         484,   326,   588,   283,   647,   624,  1035,   458,   505,\n",
       "         515,   398,  1573,   479,   455,   273,   640,   491,   755,\n",
       "        1000,   802,   644,   614,   392,  1697,  1209,   662,   531,\n",
       "         460,  1643,   913,  1027,   252,   728,   679,   563,   457,\n",
       "         575,  1705,  1347,   710,   488,   518,   657,   498,   688,\n",
       "         550,   741,   721,   604,   528,   436,   449,   336,   495,\n",
       "         465,   358,   574,   602,   696,   816,   840,   642,   625,\n",
       "         420,   321,   704,   318,  1308,   587,  1025,   370,   523,\n",
       "         700,   656,   650,   756,   726,   489,   440,   803,   453,\n",
       "         809,   328,   325,   622,  1816,   322,  1075,   485,   851,\n",
       "         478,   638,  1687,   224,   920,   352,   716,   475,   582,\n",
       "         405,   654,   692,   837,   417,   645,   545,   701,   482,\n",
       "         698,   407,   544,   754,   705,   424,   496,   483,   672,\n",
       "         540,   722,   712,   363,   607,   601,  1013,   786,   655,\n",
       "         538,   799,   594,   875,   819,  1159,   280,   569,   928,\n",
       "        1079,   554,   735,   541,   234,   748,   404,   535,   451,\n",
       "         794,   410,   892,   487,   507,  1413,   477,   517,   910,\n",
       "        1245,  1300,   673,  1559,   859,   651,   551,   444,   415,\n",
       "        1097,  1491,   583,  1522,   555,   497,  1061,  1714,   675,\n",
       "         526,   852,   997,   847,   559,   335,   580,   443,   481,\n",
       "         723,   787,   766,   691,   564,   466,   418,   788,   512,\n",
       "         450,  1187,  2640,   890,   573,   542,   427,   732,   611,\n",
       "         446,   516,   736,  1010,   781,   408,   671,   562,  1011,\n",
       "         879,   869,  1043,   759,   882,   416,   636,  1323,   939,\n",
       "         411,   827,  1049,   586,   783,   628,   504,   674,   593,\n",
       "        1303,   476,   374,  2124,   801,   933,   855,   445,   641,\n",
       "         617,   605,   369,   333,   468,  1462,   524,   537,   561,\n",
       "         578,   530,  1558,  1142,   506,   529,   534,   615,   763,\n",
       "         717,   793,  1469,  1528,   897,  1026,   401,  1267,   825,\n",
       "         970,  2438,   858,  1102,   618,   849,  1156,   775,   831,\n",
       "         917,   810,   591,   838,  2251,   751,   817,   558,  1074,\n",
       "         520,   677,   694,   828,   527,  2294,   734,   689,  1113,\n",
       "         653,   639,  1091,  1324,   682,   693,   743,  1457,   630,\n",
       "        1170,   471,   800,  1044,  1544,   627,  1215,   592,   747,\n",
       "        1028,  1132,  1272,   539,   557,  1427,   765,  1072,  1095,\n",
       "         733,   725,   612,   830,   874,   823,  1247,   871,   703,\n",
       "         944,   533, 49854,   918,   713,   668,   714,   727,   501,\n",
       "         486,   853,   665,   576,  1370,   924,  1196,   621,   887,\n",
       "        1058,   767,  1038,  1017,   761,   861,  1155,  1230,   502,\n",
       "         980,  1024,   753,   629,  1037,  1090,   729,  1355,   739,\n",
       "         715,   606,  1009,   659,  1108,   492,   565,   822,  1266,\n",
       "         993,   719,   706,   885,  1105,   778,   909,  1039,   936,\n",
       "         757,   634,   581,   616,   595,   860,  1337,   623,   929,\n",
       "        1098,   812,  1307,  1241,   556,   448,   841,   598,  1067,\n",
       "         813,   821,   884,   769,  1101,  1529,  1288,   985,   877,\n",
       "        1002,  1138,   670,   981,   829,  1667,   635,  1200,  1490,\n",
       "         965,   792,  1274,  1145,   776,  1082,   711,  2156,   926,\n",
       "         658,   572,  2063,   846,   768,   708], dtype=int64)"
      ]
     },
     "execution_count": 14,
     "metadata": {},
     "output_type": "execute_result"
    }
   ],
   "source": [
    "df['sum_gamerounds'].unique()"
   ]
  },
  {
   "cell_type": "code",
   "execution_count": 15,
   "id": "26846ecb",
   "metadata": {},
   "outputs": [
    {
     "data": {
      "text/plain": [
       "942"
      ]
     },
     "execution_count": 15,
     "metadata": {},
     "output_type": "execute_result"
    }
   ],
   "source": [
    "df['sum_gamerounds'].nunique()"
   ]
  },
  {
   "cell_type": "markdown",
   "id": "56bc9a81",
   "metadata": {},
   "source": [
    "As we could see, there are 942 unique values for the number of game rounds played by the player during the first 7 days from the installation."
   ]
  },
  {
   "cell_type": "code",
   "execution_count": 16,
   "id": "f1f29c98",
   "metadata": {},
   "outputs": [
    {
     "data": {
      "text/plain": [
       "array([False,  True])"
      ]
     },
     "execution_count": 16,
     "metadata": {},
     "output_type": "execute_result"
    }
   ],
   "source": [
    "df['retention_1'].unique()"
   ]
  },
  {
   "cell_type": "code",
   "execution_count": 17,
   "id": "8cbf098c",
   "metadata": {},
   "outputs": [
    {
     "data": {
      "text/plain": [
       "2"
      ]
     },
     "execution_count": 17,
     "metadata": {},
     "output_type": "execute_result"
    }
   ],
   "source": [
    "df['retention_1'].nunique()"
   ]
  },
  {
   "cell_type": "code",
   "execution_count": 18,
   "id": "c9d8077e",
   "metadata": {},
   "outputs": [
    {
     "data": {
      "text/plain": [
       "array([False,  True])"
      ]
     },
     "execution_count": 18,
     "metadata": {},
     "output_type": "execute_result"
    }
   ],
   "source": [
    "df['retention_7'].unique()"
   ]
  },
  {
   "cell_type": "code",
   "execution_count": 19,
   "id": "11beeb18",
   "metadata": {},
   "outputs": [
    {
     "data": {
      "text/plain": [
       "2"
      ]
     },
     "execution_count": 19,
     "metadata": {},
     "output_type": "execute_result"
    }
   ],
   "source": [
    "df['retention_7'].nunique()"
   ]
  },
  {
   "cell_type": "markdown",
   "id": "a33abe76",
   "metadata": {},
   "source": [
    "For being boolean columns, these columns have only two different values each."
   ]
  },
  {
   "cell_type": "markdown",
   "id": "65537a2d",
   "metadata": {},
   "source": [
    "After completing this part, I will perform a deeper analysis."
   ]
  },
  {
   "cell_type": "code",
   "execution_count": 20,
   "id": "b22cc8e9",
   "metadata": {},
   "outputs": [
    {
     "data": {
      "text/html": [
       "<div>\n",
       "<style scoped>\n",
       "    .dataframe tbody tr th:only-of-type {\n",
       "        vertical-align: middle;\n",
       "    }\n",
       "\n",
       "    .dataframe tbody tr th {\n",
       "        vertical-align: top;\n",
       "    }\n",
       "\n",
       "    .dataframe thead th {\n",
       "        text-align: right;\n",
       "    }\n",
       "</style>\n",
       "<table border=\"1\" class=\"dataframe\">\n",
       "  <thead>\n",
       "    <tr style=\"text-align: right;\">\n",
       "      <th></th>\n",
       "      <th>userid</th>\n",
       "      <th>sum_gamerounds</th>\n",
       "      <th>retention_1</th>\n",
       "      <th>retention_7</th>\n",
       "    </tr>\n",
       "    <tr>\n",
       "      <th>version</th>\n",
       "      <th></th>\n",
       "      <th></th>\n",
       "      <th></th>\n",
       "      <th></th>\n",
       "    </tr>\n",
       "  </thead>\n",
       "  <tbody>\n",
       "    <tr>\n",
       "      <th>gate_30</th>\n",
       "      <td>44700</td>\n",
       "      <td>44700</td>\n",
       "      <td>44700</td>\n",
       "      <td>44700</td>\n",
       "    </tr>\n",
       "    <tr>\n",
       "      <th>gate_40</th>\n",
       "      <td>45489</td>\n",
       "      <td>45489</td>\n",
       "      <td>45489</td>\n",
       "      <td>45489</td>\n",
       "    </tr>\n",
       "  </tbody>\n",
       "</table>\n",
       "</div>"
      ],
      "text/plain": [
       "         userid  sum_gamerounds  retention_1  retention_7\n",
       "version                                                  \n",
       "gate_30   44700           44700        44700        44700\n",
       "gate_40   45489           45489        45489        45489"
      ]
     },
     "execution_count": 20,
     "metadata": {},
     "output_type": "execute_result"
    }
   ],
   "source": [
    "df.groupby('version').count()"
   ]
  },
  {
   "cell_type": "code",
   "execution_count": 21,
   "id": "9e5f0e08",
   "metadata": {},
   "outputs": [
    {
     "data": {
      "text/plain": [
       "gate_40    45489\n",
       "gate_30    44700\n",
       "Name: version, dtype: int64"
      ]
     },
     "execution_count": 21,
     "metadata": {},
     "output_type": "execute_result"
    }
   ],
   "source": [
    "df['version'].value_counts()"
   ]
  },
  {
   "cell_type": "markdown",
   "id": "e2fa1b0c",
   "metadata": {},
   "source": [
    "To enhance visualization, plotting will be implemented as part of the exploratory data analysis (EDA) process."
   ]
  },
  {
   "cell_type": "code",
   "execution_count": 22,
   "id": "3b745001",
   "metadata": {},
   "outputs": [
    {
     "data": {
      "image/png": "[encoded data removed]",
      "text/plain": [
       "<Figure size 500x400 with 1 Axes>"
      ]
     },
     "metadata": {},
     "output_type": "display_data"
    },
    {
     "name": "stdout",
     "output_type": "stream",
     "text": [
      "Class imbalance: [0.5 0.5]\n"
     ]
    }
   ],
   "source": [
    "# Plotting to better visualize\n",
    "\n",
    "values, counts = np.unique(df['version'], return_counts=True)\n",
    "normalized_counts = counts/counts.sum()\n",
    "\n",
    "plt.figure(figsize = (5,4))\n",
    "plt.bar([\"gate_30\", \"gate_40\"], normalized_counts*100, color='chocolate') # plot normalized counts\n",
    "plt.xlabel('version')\n",
    "plt.ylabel('% of version')\n",
    "plt.show()\n",
    "\n",
    "print(f\"Class imbalance: {np.round(normalized_counts, 2)}\")"
   ]
  },
  {
   "cell_type": "markdown",
   "id": "56edc522",
   "metadata": {},
   "source": [
    "Upon downloading and installing the game, each player was randomly allocated into either the \"gate_30\" or \"gate_40\" group. It's evident that the division between these groups was executed effectively, and there is no discernible imbalance between the two categories."
   ]
  },
  {
   "cell_type": "markdown",
   "id": "ae923a89",
   "metadata": {},
   "source": [
    "##### Top 10 - User with most game rounds "
   ]
  },
  {
   "cell_type": "code",
   "execution_count": 23,
   "id": "62a7c410",
   "metadata": {
    "scrolled": true
   },
   "outputs": [
    {
     "data": {
      "text/html": [
       "<div>\n",
       "<style scoped>\n",
       "    .dataframe tbody tr th:only-of-type {\n",
       "        vertical-align: middle;\n",
       "    }\n",
       "\n",
       "    .dataframe tbody tr th {\n",
       "        vertical-align: top;\n",
       "    }\n",
       "\n",
       "    .dataframe thead th {\n",
       "        text-align: right;\n",
       "    }\n",
       "</style>\n",
       "<table border=\"1\" class=\"dataframe\">\n",
       "  <thead>\n",
       "    <tr style=\"text-align: right;\">\n",
       "      <th></th>\n",
       "      <th>version</th>\n",
       "      <th>sum_gamerounds</th>\n",
       "    </tr>\n",
       "  </thead>\n",
       "  <tbody>\n",
       "    <tr>\n",
       "      <th>57702</th>\n",
       "      <td>gate_30</td>\n",
       "      <td>49854</td>\n",
       "    </tr>\n",
       "    <tr>\n",
       "      <th>7912</th>\n",
       "      <td>gate_30</td>\n",
       "      <td>2961</td>\n",
       "    </tr>\n",
       "    <tr>\n",
       "      <th>29417</th>\n",
       "      <td>gate_40</td>\n",
       "      <td>2640</td>\n",
       "    </tr>\n",
       "    <tr>\n",
       "      <th>43671</th>\n",
       "      <td>gate_30</td>\n",
       "      <td>2438</td>\n",
       "    </tr>\n",
       "    <tr>\n",
       "      <th>48188</th>\n",
       "      <td>gate_40</td>\n",
       "      <td>2294</td>\n",
       "    </tr>\n",
       "    <tr>\n",
       "      <th>46344</th>\n",
       "      <td>gate_30</td>\n",
       "      <td>2251</td>\n",
       "    </tr>\n",
       "    <tr>\n",
       "      <th>87007</th>\n",
       "      <td>gate_30</td>\n",
       "      <td>2156</td>\n",
       "    </tr>\n",
       "    <tr>\n",
       "      <th>36933</th>\n",
       "      <td>gate_40</td>\n",
       "      <td>2124</td>\n",
       "    </tr>\n",
       "    <tr>\n",
       "      <th>88328</th>\n",
       "      <td>gate_40</td>\n",
       "      <td>2063</td>\n",
       "    </tr>\n",
       "    <tr>\n",
       "      <th>6536</th>\n",
       "      <td>gate_40</td>\n",
       "      <td>2015</td>\n",
       "    </tr>\n",
       "  </tbody>\n",
       "</table>\n",
       "</div>"
      ],
      "text/plain": [
       "       version  sum_gamerounds\n",
       "57702  gate_30           49854\n",
       "7912   gate_30            2961\n",
       "29417  gate_40            2640\n",
       "43671  gate_30            2438\n",
       "48188  gate_40            2294\n",
       "46344  gate_30            2251\n",
       "87007  gate_30            2156\n",
       "36933  gate_40            2124\n",
       "88328  gate_40            2063\n",
       "6536   gate_40            2015"
      ]
     },
     "execution_count": 23,
     "metadata": {},
     "output_type": "execute_result"
    }
   ],
   "source": [
    "user_with_highest_game_rounds = df[['version', 'sum_gamerounds']].sort_values('sum_gamerounds', ascending=False)\n",
    "user_with_highest_game_rounds = user_with_highest_game_rounds.head(10)\n",
    "user_with_highest_game_rounds"
   ]
  },
  {
   "cell_type": "markdown",
   "id": "a1457aab",
   "metadata": {},
   "source": [
    "It is evident that `userid 57,702` stands out as an outlier with nearly 50,000 game rounds, while the second-highest user has only around 3,000 game rounds."
   ]
  },
  {
   "cell_type": "markdown",
   "id": "2c31c74c",
   "metadata": {},
   "source": [
    "Given that the dataset comprises solely of two numerical columns, namely 'userid' and 'sum_gamerounds', I will employ the 'describe' function solely on the 'sum_gamerounds' column. This is due to the fact that 'userid' serves as the unique identifier."
   ]
  },
  {
   "cell_type": "code",
   "execution_count": 24,
   "id": "2d15ab03",
   "metadata": {},
   "outputs": [
    {
     "data": {
      "text/plain": [
       "count    90189.000000\n",
       "mean        51.872457\n",
       "std        195.050858\n",
       "min          0.000000\n",
       "25%          5.000000\n",
       "50%         16.000000\n",
       "75%         51.000000\n",
       "max      49854.000000\n",
       "Name: sum_gamerounds, dtype: float64"
      ]
     },
     "execution_count": 24,
     "metadata": {},
     "output_type": "execute_result"
    }
   ],
   "source": [
    "# Geting the summary stats for numeric columns\n",
    "\n",
    "df['sum_gamerounds'].describe()"
   ]
  },
  {
   "cell_type": "markdown",
   "id": "a262bd16",
   "metadata": {},
   "source": [
    "The standard deviation indicates the extent of variability among values in the dataset. Notably, the large standard deviation observed is likely attributed to one user who amassed nearly 50,000 game rounds.\n",
    "\n",
    "Key insights from the analysis are as follows:\n",
    "\n",
    "Following the first week of installation:\n",
    "\n",
    "- 25% of players engaged in the game only 5 times.\n",
    "- 50% of players participated in 16 rounds.\n",
    "- 75% of players completed approximately 51 rounds.\n",
    "\n",
    "Next, let us examine the distribution of players across different numbers of game rounds."
   ]
  },
  {
   "cell_type": "code",
   "execution_count": 25,
   "id": "81b1bde9",
   "metadata": {},
   "outputs": [
    {
     "data": {
      "text/html": [
       "<div>\n",
       "<style scoped>\n",
       "    .dataframe tbody tr th:only-of-type {\n",
       "        vertical-align: middle;\n",
       "    }\n",
       "\n",
       "    .dataframe tbody tr th {\n",
       "        vertical-align: top;\n",
       "    }\n",
       "\n",
       "    .dataframe thead th {\n",
       "        text-align: right;\n",
       "    }\n",
       "</style>\n",
       "<table border=\"1\" class=\"dataframe\">\n",
       "  <thead>\n",
       "    <tr style=\"text-align: right;\">\n",
       "      <th></th>\n",
       "      <th>sum_gamerounds</th>\n",
       "      <th>userid</th>\n",
       "    </tr>\n",
       "  </thead>\n",
       "  <tbody>\n",
       "    <tr>\n",
       "      <th>0</th>\n",
       "      <td>0</td>\n",
       "      <td>3994</td>\n",
       "    </tr>\n",
       "    <tr>\n",
       "      <th>1</th>\n",
       "      <td>1</td>\n",
       "      <td>5538</td>\n",
       "    </tr>\n",
       "    <tr>\n",
       "      <th>2</th>\n",
       "      <td>2</td>\n",
       "      <td>4606</td>\n",
       "    </tr>\n",
       "    <tr>\n",
       "      <th>3</th>\n",
       "      <td>3</td>\n",
       "      <td>3958</td>\n",
       "    </tr>\n",
       "    <tr>\n",
       "      <th>4</th>\n",
       "      <td>4</td>\n",
       "      <td>3629</td>\n",
       "    </tr>\n",
       "    <tr>\n",
       "      <th>...</th>\n",
       "      <td>...</td>\n",
       "      <td>...</td>\n",
       "    </tr>\n",
       "    <tr>\n",
       "      <th>937</th>\n",
       "      <td>2294</td>\n",
       "      <td>1</td>\n",
       "    </tr>\n",
       "    <tr>\n",
       "      <th>938</th>\n",
       "      <td>2438</td>\n",
       "      <td>1</td>\n",
       "    </tr>\n",
       "    <tr>\n",
       "      <th>939</th>\n",
       "      <td>2640</td>\n",
       "      <td>1</td>\n",
       "    </tr>\n",
       "    <tr>\n",
       "      <th>940</th>\n",
       "      <td>2961</td>\n",
       "      <td>1</td>\n",
       "    </tr>\n",
       "    <tr>\n",
       "      <th>941</th>\n",
       "      <td>49854</td>\n",
       "      <td>1</td>\n",
       "    </tr>\n",
       "  </tbody>\n",
       "</table>\n",
       "<p>942 rows × 2 columns</p>\n",
       "</div>"
      ],
      "text/plain": [
       "     sum_gamerounds  userid\n",
       "0                 0    3994\n",
       "1                 1    5538\n",
       "2                 2    4606\n",
       "3                 3    3958\n",
       "4                 4    3629\n",
       "..              ...     ...\n",
       "937            2294       1\n",
       "938            2438       1\n",
       "939            2640       1\n",
       "940            2961       1\n",
       "941           49854       1\n",
       "\n",
       "[942 rows x 2 columns]"
      ]
     },
     "execution_count": 25,
     "metadata": {},
     "output_type": "execute_result"
    }
   ],
   "source": [
    "df.groupby('sum_gamerounds').userid.count().reset_index()"
   ]
  },
  {
   "cell_type": "markdown",
   "id": "275d2c7a",
   "metadata": {},
   "source": [
    "From the analysis above, several noteworthy observations can be made:\n",
    "\n",
    "1. Approximately 4,000 players did not engage with the game at all. There could be various explanations for this phenomenon:\n",
    "    - Technical issues or bugs may have hindered the player's ability to continue.\n",
    "    - The player might have installed numerous games and subsequently lacked the time or interest to play them all.\n",
    "\n",
    "\n",
    "2. Out of the total 90,189 players, around 10,000 individuals played the game only once or twice. Possible reasons for this behavior could include:\n",
    "    - Initial attraction to the game based on enticing social media advertisements, followed by disappointment upon actual gameplay.\n",
    "    - Long loading times or other usability issues that led to diminished interest in the game.\n",
    "\n",
    "Given the significant dropout rate observed after a few rounds of gameplay, it is imperative to delve deeper into understanding the underlying reasons. One effective approach would involve analyzing player feedback to gain insights into their experiences post-installation. This feedback could offer valuable insights into the factors contributing to player disengagement and inform strategies for improving player retention and overall user experience."
   ]
  },
  {
   "cell_type": "code",
   "execution_count": 26,
   "id": "c45a61d4",
   "metadata": {},
   "outputs": [
    {
     "data": {
      "image/png": "[encoded data removed]",
      "text/plain": [
       "<Figure size 2500x1000 with 1 Axes>"
      ]
     },
     "metadata": {},
     "output_type": "display_data"
    }
   ],
   "source": [
    "plt.figure(figsize=(25,10))\n",
    "\n",
    "df.groupby(\"sum_gamerounds\").userid.count()[:200].plot()\n",
    "plt.axhline(100, c='r', linestyle='--')\n",
    "plt.axhline(0, c='b', linestyle='--')\n",
    "plt.title(\"First 200 game rounds\")\n",
    "plt.xlabel(\"Sum of Game Rounds\")\n",
    "plt.ylabel('Number of Players')\n",
    "\n",
    "\n",
    "plt.tight_layout()\n",
    "\n",
    "plt.show()"
   ]
  },
  {
   "cell_type": "markdown",
   "id": "978c4fc3",
   "metadata": {},
   "source": [
    "As anticipated, the data reveals that the majority of players engaged in fewer than 25 game rounds before discontinuing their gameplay. Notably, the red line representing the threshold of 100 players intersects the cumulative sum of game rounds around 100. Conversely, the blue line, symbolizing the count of players who did not participate in any game rounds, does not intersect the cumulative sum within the initial 200 rounds. However, it closely approaches this threshold towards the end of the graphic, indicating a substantial proportion of players who ceased playing shortly after installation."
   ]
  },
  {
   "cell_type": "code",
   "execution_count": 27,
   "id": "ba2892ff",
   "metadata": {},
   "outputs": [
    {
     "data": {
      "text/html": [
       "<div>\n",
       "<style scoped>\n",
       "    .dataframe tbody tr th:only-of-type {\n",
       "        vertical-align: middle;\n",
       "    }\n",
       "\n",
       "    .dataframe tbody tr th {\n",
       "        vertical-align: top;\n",
       "    }\n",
       "\n",
       "    .dataframe thead th {\n",
       "        text-align: right;\n",
       "    }\n",
       "</style>\n",
       "<table border=\"1\" class=\"dataframe\">\n",
       "  <thead>\n",
       "    <tr style=\"text-align: right;\">\n",
       "      <th></th>\n",
       "      <th>userid</th>\n",
       "      <th>sum_gamerounds</th>\n",
       "      <th>retention_1</th>\n",
       "      <th>retention_7</th>\n",
       "    </tr>\n",
       "  </thead>\n",
       "  <tbody>\n",
       "    <tr>\n",
       "      <th>userid</th>\n",
       "      <td>8.313336e+12</td>\n",
       "      <td>1.038559e+06</td>\n",
       "      <td>-3720.530079</td>\n",
       "      <td>-2957.749424</td>\n",
       "    </tr>\n",
       "    <tr>\n",
       "      <th>sum_gamerounds</th>\n",
       "      <td>1.038559e+06</td>\n",
       "      <td>3.804484e+04</td>\n",
       "      <td>19.155356</td>\n",
       "      <td>21.199675</td>\n",
       "    </tr>\n",
       "    <tr>\n",
       "      <th>retention_1</th>\n",
       "      <td>-3.720530e+03</td>\n",
       "      <td>1.915536e+01</td>\n",
       "      <td>0.247001</td>\n",
       "      <td>0.063323</td>\n",
       "    </tr>\n",
       "    <tr>\n",
       "      <th>retention_7</th>\n",
       "      <td>-2.957749e+03</td>\n",
       "      <td>2.119968e+01</td>\n",
       "      <td>0.063323</td>\n",
       "      <td>0.151446</td>\n",
       "    </tr>\n",
       "  </tbody>\n",
       "</table>\n",
       "</div>"
      ],
      "text/plain": [
       "                      userid  sum_gamerounds  retention_1  retention_7\n",
       "userid          8.313336e+12    1.038559e+06 -3720.530079 -2957.749424\n",
       "sum_gamerounds  1.038559e+06    3.804484e+04    19.155356    21.199675\n",
       "retention_1    -3.720530e+03    1.915536e+01     0.247001     0.063323\n",
       "retention_7    -2.957749e+03    2.119968e+01     0.063323     0.151446"
      ]
     },
     "execution_count": 27,
     "metadata": {},
     "output_type": "execute_result"
    }
   ],
   "source": [
    "df.cov()"
   ]
  },
  {
   "cell_type": "markdown",
   "id": "490c19b1",
   "metadata": {},
   "source": [
    "Covariance quantifies the relationship between two variables, indicating that variations in one variable coincide with changes in the other. A positive covariance signifies that an increase in one variable corresponds to an increase in the other variable as well (Team, 2022).\n",
    "\n",
    "In the context of our analysis, we observe positive covariance between 'sum_gamerounds' and 'retention_1', as well as 'retention_7'. This indicates a direct proportional relationship between these variables."
   ]
  },
  {
   "cell_type": "code",
   "execution_count": 28,
   "id": "54e6b5c2",
   "metadata": {},
   "outputs": [
    {
     "data": {
      "text/html": [
       "<div>\n",
       "<style scoped>\n",
       "    .dataframe tbody tr th:only-of-type {\n",
       "        vertical-align: middle;\n",
       "    }\n",
       "\n",
       "    .dataframe tbody tr th {\n",
       "        vertical-align: top;\n",
       "    }\n",
       "\n",
       "    .dataframe thead th {\n",
       "        text-align: right;\n",
       "    }\n",
       "</style>\n",
       "<table border=\"1\" class=\"dataframe\">\n",
       "  <thead>\n",
       "    <tr style=\"text-align: right;\">\n",
       "      <th></th>\n",
       "      <th>userid</th>\n",
       "      <th>sum_gamerounds</th>\n",
       "      <th>retention_1</th>\n",
       "      <th>retention_7</th>\n",
       "    </tr>\n",
       "  </thead>\n",
       "  <tbody>\n",
       "    <tr>\n",
       "      <th>userid</th>\n",
       "      <td>1.000000</td>\n",
       "      <td>0.001847</td>\n",
       "      <td>-0.002596</td>\n",
       "      <td>-0.002636</td>\n",
       "    </tr>\n",
       "    <tr>\n",
       "      <th>sum_gamerounds</th>\n",
       "      <td>0.001847</td>\n",
       "      <td>1.000000</td>\n",
       "      <td>0.197603</td>\n",
       "      <td>0.279288</td>\n",
       "    </tr>\n",
       "    <tr>\n",
       "      <th>retention_1</th>\n",
       "      <td>-0.002596</td>\n",
       "      <td>0.197603</td>\n",
       "      <td>1.000000</td>\n",
       "      <td>0.327401</td>\n",
       "    </tr>\n",
       "    <tr>\n",
       "      <th>retention_7</th>\n",
       "      <td>-0.002636</td>\n",
       "      <td>0.279288</td>\n",
       "      <td>0.327401</td>\n",
       "      <td>1.000000</td>\n",
       "    </tr>\n",
       "  </tbody>\n",
       "</table>\n",
       "</div>"
      ],
      "text/plain": [
       "                  userid  sum_gamerounds  retention_1  retention_7\n",
       "userid          1.000000        0.001847    -0.002596    -0.002636\n",
       "sum_gamerounds  0.001847        1.000000     0.197603     0.279288\n",
       "retention_1    -0.002596        0.197603     1.000000     0.327401\n",
       "retention_7    -0.002636        0.279288     0.327401     1.000000"
      ]
     },
     "execution_count": 28,
     "metadata": {},
     "output_type": "execute_result"
    }
   ],
   "source": [
    "df.corr()"
   ]
  },
  {
   "cell_type": "code",
   "execution_count": 29,
   "id": "4dd5e90e",
   "metadata": {},
   "outputs": [
    {
     "data": {
      "image/png": "[encoded data removed]",
      "text/plain": [
       "<Figure size 500x500 with 2 Axes>"
      ]
     },
     "metadata": {},
     "output_type": "display_data"
    }
   ],
   "source": [
    "plt.figure(figsize=(5,5))\n",
    "matrix = np.triu(df.corr())\n",
    "sns.heatmap(df.corr(), annot=True, mask=matrix, cmap='coolwarm')\n",
    "plt.xticks(rotation=45)\n",
    "plt.yticks(rotation=15)\n",
    "plt.show()"
   ]
  },
  {
   "cell_type": "markdown",
   "id": "979b783d",
   "metadata": {},
   "source": [
    "Based on the statistical analysis, it is evident that correlations among most features are not statistically significant, as they are smaller than 0.30. However, notable exceptions include `retention_1` and `retention_7`, exhibiting a correlation of 0.33. This correlation could be attributed to instances where players did not return to play the game one day after installation and also failed to return within seven days.\n",
    "\n",
    "Moving forward, a deeper investigation will focus on the `retention_1` and `retention_7` columns. In the video gaming industry, assessing whether players will return to play the game is paramount. Thus, a key metric involves examining player retention after the first day, as returning on the second day typically signifies a higher likelihood of continued engagement.\n",
    "\n",
    "In the subsequent analysis, I will conduct a comparison of 1-day retention and 7-day retention between the control group and test group. Before proceeding with the A/B test, it is prudent to verify the difference between gates placed at levels 30 and 40 using the mean."
   ]
  },
  {
   "cell_type": "markdown",
   "id": "75e21b7d",
   "metadata": {},
   "source": [
    "###### Retention_1 - Did the player come back and play 1 day after installation?"
   ]
  },
  {
   "cell_type": "code",
   "execution_count": 30,
   "id": "cf646f81",
   "metadata": {},
   "outputs": [
    {
     "data": {
      "text/html": [
       "<div>\n",
       "<style scoped>\n",
       "    .dataframe tbody tr th:only-of-type {\n",
       "        vertical-align: middle;\n",
       "    }\n",
       "\n",
       "    .dataframe tbody tr th {\n",
       "        vertical-align: top;\n",
       "    }\n",
       "\n",
       "    .dataframe thead th {\n",
       "        text-align: right;\n",
       "    }\n",
       "</style>\n",
       "<table border=\"1\" class=\"dataframe\">\n",
       "  <thead>\n",
       "    <tr style=\"text-align: right;\">\n",
       "      <th></th>\n",
       "      <th>userid</th>\n",
       "      <th>version</th>\n",
       "      <th>sum_gamerounds</th>\n",
       "      <th>retention_7</th>\n",
       "    </tr>\n",
       "    <tr>\n",
       "      <th>retention_1</th>\n",
       "      <th></th>\n",
       "      <th></th>\n",
       "      <th></th>\n",
       "      <th></th>\n",
       "    </tr>\n",
       "  </thead>\n",
       "  <tbody>\n",
       "    <tr>\n",
       "      <th>False</th>\n",
       "      <td>50036</td>\n",
       "      <td>50036</td>\n",
       "      <td>50036</td>\n",
       "      <td>50036</td>\n",
       "    </tr>\n",
       "    <tr>\n",
       "      <th>True</th>\n",
       "      <td>40153</td>\n",
       "      <td>40153</td>\n",
       "      <td>40153</td>\n",
       "      <td>40153</td>\n",
       "    </tr>\n",
       "  </tbody>\n",
       "</table>\n",
       "</div>"
      ],
      "text/plain": [
       "             userid  version  sum_gamerounds  retention_7\n",
       "retention_1                                              \n",
       "False         50036    50036           50036        50036\n",
       "True          40153    40153           40153        40153"
      ]
     },
     "execution_count": 30,
     "metadata": {},
     "output_type": "execute_result"
    }
   ],
   "source": [
    "df.groupby('retention_1').count()"
   ]
  },
  {
   "cell_type": "code",
   "execution_count": 31,
   "id": "348b9467",
   "metadata": {},
   "outputs": [
    {
     "data": {
      "text/plain": [
       "version\n",
       "gate_30    0.448188\n",
       "gate_40    0.442283\n",
       "Name: retention_1, dtype: float64"
      ]
     },
     "execution_count": 31,
     "metadata": {},
     "output_type": "execute_result"
    }
   ],
   "source": [
    "df.groupby(\"version\")[\"retention_1\"].mean()"
   ]
  },
  {
   "cell_type": "markdown",
   "id": "eb5dd8bf",
   "metadata": {},
   "source": [
    "Based on the analysis, relocating the gate from level 30 to level 40 is anticipated to have a minimal impact on one-day retention. Specifically, there is a slight decrease of 0.59% observed."
   ]
  },
  {
   "cell_type": "markdown",
   "id": "13b7d283",
   "metadata": {},
   "source": [
    "######  Retention_7 - Did the player come back and play 7 days after installation?"
   ]
  },
  {
   "cell_type": "code",
   "execution_count": 32,
   "id": "94aa3f25",
   "metadata": {},
   "outputs": [
    {
     "data": {
      "text/html": [
       "<div>\n",
       "<style scoped>\n",
       "    .dataframe tbody tr th:only-of-type {\n",
       "        vertical-align: middle;\n",
       "    }\n",
       "\n",
       "    .dataframe tbody tr th {\n",
       "        vertical-align: top;\n",
       "    }\n",
       "\n",
       "    .dataframe thead th {\n",
       "        text-align: right;\n",
       "    }\n",
       "</style>\n",
       "<table border=\"1\" class=\"dataframe\">\n",
       "  <thead>\n",
       "    <tr style=\"text-align: right;\">\n",
       "      <th></th>\n",
       "      <th>userid</th>\n",
       "      <th>version</th>\n",
       "      <th>sum_gamerounds</th>\n",
       "      <th>retention_1</th>\n",
       "    </tr>\n",
       "    <tr>\n",
       "      <th>retention_7</th>\n",
       "      <th></th>\n",
       "      <th></th>\n",
       "      <th></th>\n",
       "      <th></th>\n",
       "    </tr>\n",
       "  </thead>\n",
       "  <tbody>\n",
       "    <tr>\n",
       "      <th>False</th>\n",
       "      <td>73408</td>\n",
       "      <td>73408</td>\n",
       "      <td>73408</td>\n",
       "      <td>73408</td>\n",
       "    </tr>\n",
       "    <tr>\n",
       "      <th>True</th>\n",
       "      <td>16781</td>\n",
       "      <td>16781</td>\n",
       "      <td>16781</td>\n",
       "      <td>16781</td>\n",
       "    </tr>\n",
       "  </tbody>\n",
       "</table>\n",
       "</div>"
      ],
      "text/plain": [
       "             userid  version  sum_gamerounds  retention_1\n",
       "retention_7                                              \n",
       "False         73408    73408           73408        73408\n",
       "True          16781    16781           16781        16781"
      ]
     },
     "execution_count": 32,
     "metadata": {},
     "output_type": "execute_result"
    }
   ],
   "source": [
    "df.groupby('retention_7').count()"
   ]
  },
  {
   "cell_type": "code",
   "execution_count": 33,
   "id": "e7f33e2f",
   "metadata": {},
   "outputs": [
    {
     "data": {
      "text/plain": [
       "version\n",
       "gate_30    0.190201\n",
       "gate_40    0.182000\n",
       "Name: retention_7, dtype: float64"
      ]
     },
     "execution_count": 33,
     "metadata": {},
     "output_type": "execute_result"
    }
   ],
   "source": [
    "df.groupby(\"version\")[\"retention_7\"].mean()"
   ]
  },
  {
   "cell_type": "markdown",
   "id": "09c65849",
   "metadata": {},
   "source": [
    "Based on our statistical analysis, we find that the correlations between various features are generally not statistically significant. Moreover, our findings suggest that relocating the gate from level 30 to level 40 would result in only a marginal impact on seven-day retention, with a minor decrease of 0.82%.\n",
    "\n",
    "Utilizing the mean to compare the difference in retention between gates set at level 30 and level 40 for both one and seven days, we observe a minimal decrease in retention rates. In essence, the average retention rates appear to exhibit a striking similarity across both scenarios."
   ]
  },
  {
   "cell_type": "markdown",
   "id": "0a8f2200",
   "metadata": {},
   "source": [
    "## A/B testing"
   ]
  },
  {
   "cell_type": "markdown",
   "id": "a57898ec",
   "metadata": {},
   "source": [
    "#### I will perform the following steps:\n",
    "\n",
    "* 1. Define business question and performance metric\n",
    "\n",
    "\n",
    "* 2. Check for normality - By applying Shapiro-Wilk Test\n",
    "    * Employing the Shapiro-Wilk test entails evaluating the null hypothesis that the data adheres to a normal distribution, against the alternative hypothesis indicating otherwise:\n",
    "    \n",
    "    $$ H_0 : \\text{Data is normally distributed}\\quad  (p<0.05)\\quad vs. \\quad H_1 : \\text{Data is not normally distributed} $$\n",
    "    \n",
    "    \n",
    "* 3. Compare group performance and determine if the difference is statistically significant (with hypothesis testing)\n",
    "    * If normal - proceed with **proportions z-test**\n",
    "    * If non-normal - proceed with **Mann-Whitney U test**\n",
    "    \n",
    "    **Our null and alternative hypotheses are:**\n",
    "\n",
    "- $H_0$: The mean of gate_30 = The mean of gate_40\n",
    "- $H_1$: The mean of gate_30 $\\neq$ The mean of gate_40\n",
    "\n",
    " We will use a significance level of 0.05 as usual."
   ]
  },
  {
   "cell_type": "markdown",
   "id": "c3a87849",
   "metadata": {},
   "source": [
    "#### Step 1 - Business problem / question\n",
    "\n",
    "##### *Our business problem entails evaluating the feasibility of relocating the initial gate in the mobile game \"Cookie Cats\" from level 30 to level 40 and comprehensively assessing the repercussions of this modification on player retention metrics.*"
   ]
  },
  {
   "cell_type": "markdown",
   "id": "37c766fa",
   "metadata": {},
   "source": [
    "Now, let us divide our analysis in two parts, 1-day retention and 7-day retention"
   ]
  },
  {
   "cell_type": "markdown",
   "id": "cc033d5e",
   "metadata": {},
   "source": [
    "### **Part I**"
   ]
  },
  {
   "cell_type": "markdown",
   "id": "8d4d2ab9",
   "metadata": {},
   "source": [
    "##### Investigating column `retention_1`"
   ]
  },
  {
   "cell_type": "markdown",
   "id": "aa215f9c",
   "metadata": {},
   "source": [
    "#### Step 2"
   ]
  },
  {
   "cell_type": "code",
   "execution_count": 34,
   "id": "7154e112",
   "metadata": {
    "scrolled": false
   },
   "outputs": [
    {
     "data": {
      "text/plain": [
       "version  retention_1\n",
       "gate_30  False          24666\n",
       "         True           20034\n",
       "gate_40  False          25370\n",
       "         True           20119\n",
       "dtype: int64"
      ]
     },
     "execution_count": 34,
     "metadata": {},
     "output_type": "execute_result"
    }
   ],
   "source": [
    "retention_1 = df.groupby(['version','retention_1']).size()\n",
    "retention_1"
   ]
  },
  {
   "cell_type": "code",
   "execution_count": 35,
   "id": "64dc8be2",
   "metadata": {
    "scrolled": true
   },
   "outputs": [
    {
     "data": {
      "text/html": [
       "<div>\n",
       "<style scoped>\n",
       "    .dataframe tbody tr th:only-of-type {\n",
       "        vertical-align: middle;\n",
       "    }\n",
       "\n",
       "    .dataframe tbody tr th {\n",
       "        vertical-align: top;\n",
       "    }\n",
       "\n",
       "    .dataframe thead th {\n",
       "        text-align: right;\n",
       "    }\n",
       "</style>\n",
       "<table border=\"1\" class=\"dataframe\">\n",
       "  <thead>\n",
       "    <tr style=\"text-align: right;\">\n",
       "      <th></th>\n",
       "      <th>gate_30</th>\n",
       "      <th>gate_40</th>\n",
       "    </tr>\n",
       "  </thead>\n",
       "  <tbody>\n",
       "    <tr>\n",
       "      <th>True</th>\n",
       "      <td>20034</td>\n",
       "      <td>20119</td>\n",
       "    </tr>\n",
       "    <tr>\n",
       "      <th>False</th>\n",
       "      <td>24666</td>\n",
       "      <td>25370</td>\n",
       "    </tr>\n",
       "  </tbody>\n",
       "</table>\n",
       "</div>"
      ],
      "text/plain": [
       "       gate_30  gate_40\n",
       "True     20034    20119\n",
       "False    24666    25370"
      ]
     },
     "execution_count": 35,
     "metadata": {},
     "output_type": "execute_result"
    }
   ],
   "source": [
    "#make a new dataset\n",
    "retention_1 = pd.DataFrame(data=[[20034,20119],[24666,25370]],\n",
    "                  index=[\"True\",\"False\"],\n",
    "                  columns=[\"gate_30\",\"gate_40\"])\n",
    "retention_1"
   ]
  },
  {
   "cell_type": "code",
   "execution_count": 36,
   "id": "ded0f629",
   "metadata": {},
   "outputs": [
    {
     "data": {
      "text/plain": [
       "ShapiroResult(statistic=0.7931954860687256, pvalue=0.09056650102138519)"
      ]
     },
     "execution_count": 36,
     "metadata": {},
     "output_type": "execute_result"
    }
   ],
   "source": [
    "# calculating the shapiro test statisic and its p-value\n",
    "stats.shapiro(retention_1)"
   ]
  },
  {
   "cell_type": "markdown",
   "id": "16612a14",
   "metadata": {},
   "source": [
    "Since the p-value (0.09056650102138519) is greater than the typical significance level of 0.05, we fail to reject the null hypothesis. This suggests that there is not enough evidence to conclude that the data significantly deviates from a normal distribution."
   ]
  },
  {
   "cell_type": "markdown",
   "id": "c5851836",
   "metadata": {},
   "source": [
    "#### Step 3\n",
    "\n",
    "###### Mann-Whitney U test"
   ]
  },
  {
   "cell_type": "markdown",
   "id": "1c4331a4",
   "metadata": {},
   "source": []
  },
  {
   "cell_type": "code",
   "execution_count": 37,
   "id": "e8b21dce",
   "metadata": {
    "scrolled": true
   },
   "outputs": [
    {
     "data": {
      "text/plain": [
       "MannwhitneyuResult(statistic=1.0, pvalue=0.6666666666666666)"
      ]
     },
     "execution_count": 37,
     "metadata": {},
     "output_type": "execute_result"
    }
   ],
   "source": [
    "stats.mannwhitneyu(retention_1['gate_30'], retention_1['gate_40'])"
   ]
  },
  {
   "cell_type": "markdown",
   "id": "4feebf77",
   "metadata": {},
   "source": [
    "The Mann-Whitney U test yielded a statistic of 1.0 and a p-value of approximately 0.67. Given that the p-value is greater than the typical significance level of 0.05, we fail to reject the Null Hypothesis. \n",
    "\n",
    "Therefore, there is insufficient evidence to conclude that there is a statistically significant difference between the two groups (gate_30 and gate_40) regarding game rounds related to one-day retention. This suggests that moving the first gate from level 30 to level 40 may not have a significant impact on one-day retention rates."
   ]
  },
  {
   "cell_type": "markdown",
   "id": "96f12b09",
   "metadata": {},
   "source": [
    "### **Part II**"
   ]
  },
  {
   "cell_type": "markdown",
   "id": "5f74bfec",
   "metadata": {},
   "source": [
    "#### Step 2"
   ]
  },
  {
   "cell_type": "markdown",
   "id": "e199e623",
   "metadata": {},
   "source": [
    "##### Investigating column `retention_7`"
   ]
  },
  {
   "cell_type": "code",
   "execution_count": 38,
   "id": "dc0a640c",
   "metadata": {
    "scrolled": false
   },
   "outputs": [
    {
     "data": {
      "text/plain": [
       "version  retention_7\n",
       "gate_30  False          36198\n",
       "         True            8502\n",
       "gate_40  False          37210\n",
       "         True            8279\n",
       "dtype: int64"
      ]
     },
     "execution_count": 38,
     "metadata": {},
     "output_type": "execute_result"
    }
   ],
   "source": [
    "retention_7 = df.groupby(['version','retention_7']).size()\n",
    "retention_7"
   ]
  },
  {
   "cell_type": "code",
   "execution_count": 39,
   "id": "bd9f851e",
   "metadata": {
    "scrolled": true
   },
   "outputs": [
    {
     "data": {
      "text/html": [
       "<div>\n",
       "<style scoped>\n",
       "    .dataframe tbody tr th:only-of-type {\n",
       "        vertical-align: middle;\n",
       "    }\n",
       "\n",
       "    .dataframe tbody tr th {\n",
       "        vertical-align: top;\n",
       "    }\n",
       "\n",
       "    .dataframe thead th {\n",
       "        text-align: right;\n",
       "    }\n",
       "</style>\n",
       "<table border=\"1\" class=\"dataframe\">\n",
       "  <thead>\n",
       "    <tr style=\"text-align: right;\">\n",
       "      <th></th>\n",
       "      <th>gate_30</th>\n",
       "      <th>gate_40</th>\n",
       "    </tr>\n",
       "  </thead>\n",
       "  <tbody>\n",
       "    <tr>\n",
       "      <th>True</th>\n",
       "      <td>8502</td>\n",
       "      <td>8279</td>\n",
       "    </tr>\n",
       "    <tr>\n",
       "      <th>False</th>\n",
       "      <td>36198</td>\n",
       "      <td>37210</td>\n",
       "    </tr>\n",
       "  </tbody>\n",
       "</table>\n",
       "</div>"
      ],
      "text/plain": [
       "       gate_30  gate_40\n",
       "True      8502     8279\n",
       "False    36198    37210"
      ]
     },
     "execution_count": 39,
     "metadata": {},
     "output_type": "execute_result"
    }
   ],
   "source": [
    "#make a new dataset\n",
    "retention_7 = pd.DataFrame(data=[[8502,8279],[36198,37210]],\n",
    "                  index=[\"True\",\"False\"],\n",
    "                  columns=[\"gate_30\",\"gate_40\"])\n",
    "retention_7"
   ]
  },
  {
   "cell_type": "code",
   "execution_count": 40,
   "id": "d4c2c8ed",
   "metadata": {},
   "outputs": [
    {
     "data": {
      "text/plain": [
       "ShapiroResult(statistic=0.7476582527160645, pvalue=0.036716360598802567)"
      ]
     },
     "execution_count": 40,
     "metadata": {},
     "output_type": "execute_result"
    }
   ],
   "source": [
    "# calculating the shapiro test statisic and its p-value\n",
    "stats.shapiro(retention_7)"
   ]
  },
  {
   "cell_type": "markdown",
   "id": "23b11f16",
   "metadata": {},
   "source": [
    "As we observed, there is evidence against the normality of residuals in the model. Therefore, with a p-value less than 0.05, we reject the Null Hypothesis.\n",
    "\n",
    "Since the Shapiro-Wilk test rejected H0 for the normality assumption, we cannot assume a normal distribution. In this scenario, the **proportions z-test** may not be the most appropriate approach for hypothesis testing. Instead, we should consider utilizing the **Mann-Whitney U test**, which is a non-parametric test suitable for comparing two independent groups when the data is not normally distributed. Therefore, we will proceed with the Mann-Whitney U test to investigate the impact of moving the gate from level 30 to 40."
   ]
  },
  {
   "cell_type": "markdown",
   "id": "de7e50b0",
   "metadata": {},
   "source": [
    "#### Step 3\n",
    "\n",
    "###### Mann-Whitney U test"
   ]
  },
  {
   "cell_type": "code",
   "execution_count": 41,
   "id": "704e0753",
   "metadata": {},
   "outputs": [
    {
     "data": {
      "text/plain": [
       "MannwhitneyuResult(statistic=2.0, pvalue=1.0)"
      ]
     },
     "execution_count": 41,
     "metadata": {},
     "output_type": "execute_result"
    }
   ],
   "source": [
    "stats.mannwhitneyu(retention_7['gate_30'], retention_7['gate_40'])"
   ]
  },
  {
   "cell_type": "markdown",
   "id": "9ea7ad40",
   "metadata": {},
   "source": [
    "The result of the Mann-Whitney U test for comparing retention rates between the gate_30 and gate_40 groups yielded a statistic of 2.0 and a p-value of 1.0. \n",
    "\n",
    "With a p-value of 1.0, which is greater than the typical significance level of 0.05, we fail to reject the null hypothesis. This indicates that there is not enough evidence to conclude that there is a statistically significant difference between the retention rates of the gate_30 and gate_40 groups.\n",
    "\n",
    "Therefore, based on this analysis, we do not find sufficient evidence to support a significant difference in retention rates between the two groups when the gate is moved from level 30 to level 40."
   ]
  },
  {
   "cell_type": "markdown",
   "id": "872d59a4",
   "metadata": {},
   "source": [
    "## Conclusion"
   ]
  },
  {
   "cell_type": "markdown",
   "id": "2d1290a7",
   "metadata": {},
   "source": [
    "Conclusion:\n",
    "\n",
    "In conclusion, our comprehensive analysis of player retention in the mobile puzzle game \"Cookie Cats\" has provided valuable insights into the optimal placement of the game's first gate. The primary objective of our project was to determine whether relocating the initial gate from level 30 to level 40 would have a significant impact on player retention metrics.\n",
    "\n",
    "Upon examining the dataset and conducting exploratory data analysis (EDA), we identified several key observations regarding player behavior and engagement within the game. Notably, while a significant proportion of players engaged in the game initially, there was a considerable drop-off in engagement after a few rounds of gameplay. Additionally, our analysis revealed positive covariance between the number of game rounds played and both one-day and seven-day retention rates.\n",
    "\n",
    "In our hypothesis testing phase, we employed both parametric and non-parametric tests to assess the effect of relocating the gate on player retention. The Shapiro-Wilk test revealed non-normality of residuals in the model, leading us to utilize the Mann-Whitney U test for both one-day and seven-day retention analyses.\n",
    "\n",
    "Our results indicated that moving the first gate from level 30 to level 40 would have a statistically significant impact on player retention metrics. Specifically, while there was no significant difference in one-day retention rates between the gate_30 and gate_40 groups, there was no statistically significant difference in seven-day retention rates. This suggests that moving the gate would likely not influence players' long-term engagement with the game.\n",
    "\n",
    "However, it is essential to consider additional factors beyond statistical significance when making decisions about game design and player retention strategies. Practical significance, user experience, and potential business implications must be taken into account. Therefore, before making a final recommendation regarding the relocation of the first gate, further analysis and evaluation of these factors are warranted.\n",
    "\n",
    "In light of our findings, we recommend conducting additional research and user testing to assess the practical implications of moving the gate from level 30 to level 40. This should include gathering feedback from players, evaluating user experience metrics, and considering the potential impact on in-app purchases and overall player satisfaction.\n",
    "\n",
    "Ultimately, by leveraging data-driven insights and considering a holistic approach to player retention strategies, game developers can make informed decisions to enhance the player experience and drive long-term engagement with their games."
   ]
  },
  {
   "cell_type": "markdown",
   "id": "e509110c",
   "metadata": {},
   "source": [
    "## Reference\n",
    "\n",
    "Yarkın, M. (2021, February 10). Mobile games A/B testing - cookie cats. Kaggle. Retrieved February 13, 2023, from https://www.kaggle.com/datasets/mursideyarkin/mobile-games-ab-testing-cookie-cats \n",
    "\n",
    "Team, T. I. (2022, August 19). How do you interpret the magnitude of the covariance between two variables? Investopedia. Retrieved February 14, 2023, from https://www.investopedia.com/ask/answers/041515/how-do-you-interpret-magnitude-covariance-between-two-variables.asp#:~:text=Covariance%20indicates%20the%20relationship%20of,a%20decrease%20in%20the%20other "
   ]
  }
 ],
 "metadata": {
  "kernelspec": {
   "display_name": "Python 3 (ipykernel)",
   "language": "python",
   "name": "python3"
  },
  "language_info": {
   "codemirror_mode": {
    "name": "ipython",
    "version": 3
   },
   "file_extension": ".py",
   "mimetype": "text/x-python",
   "name": "python",
   "nbconvert_exporter": "python",
   "pygments_lexer": "ipython3",
   "version": "3.9.13"
  }
 },
 "nbformat": 4,
 "nbformat_minor": 5
}
